{
 "cells": [
  {
   "cell_type": "code",
   "execution_count": 1,
   "metadata": {},
   "outputs": [],
   "source": [
    "#Creating a Node Class for each item in a list\n",
    "class Node:\n",
    "    def __init__(self, data):\n",
    "        self.data = data\n",
    "        self.next = None"
   ]
  },
  {
   "cell_type": "code",
   "execution_count": 2,
   "metadata": {},
   "outputs": [],
   "source": [
    "#CRUD LinkedList - CRUD : CREATE, READ, UPDATE, DELETE\n",
    "class LinkedList:\n",
    "    def __init__(self):\n",
    "        #starting point of linkedlist\n",
    "        self.start_node = None\n",
    "    def append(self, data):\n",
    "        node = Node(data)\n",
    "        #check if their is not node yet in our linkedlist\n",
    "        if(self.start_node == None):\n",
    "            self.start_node = node\n",
    "        else:\n",
    "            #check if the next node exist or not after the first before appending it\n",
    "            if(self.start_node.next == None):\n",
    "                self.start_node.next = node\n",
    "            else:\n",
    "                #start searching to find the last node and append to it next node\n",
    "                start_n = self.start_node\n",
    "                while(start_n != None):\n",
    "                    if(start_n.next == None):\n",
    "                        start_n.next = node\n",
    "                        break\n",
    "                    start_n = start_n.next\n",
    "    def display_all(self):\n",
    "        #search through the entire list and display the data it contains at each step\n",
    "        start_n = self.start_node\n",
    "        while(start_n != None):\n",
    "            print(start_n.data)\n",
    "            start_n = start_n.next\n",
    "    def delete(self, data):\n",
    "        #check if the deleted data is the first node\n",
    "        if(self.start_node.data == data):\n",
    "            self.start_node = self.start_node.next\n",
    "            print(\"deleted\", data)\n",
    "        else:\n",
    "            # start searching through the connected nodes to find the data we want to delete\n",
    "            start_n = self.start_node\n",
    "            while(start_n != None):\n",
    "                if(start_n.next != None):\n",
    "                    #if the data is found, link the current next node to the next node of the data node\n",
    "                    if(start_n.next.data == data):\n",
    "                        start_n.next = start_n.next.next\n",
    "                        print(\"deleted\", data)\n",
    "                        return\n",
    "                    else:\n",
    "                        start_n = start_n.next\n",
    "                else:\n",
    "                    print(\"Data not found\")\n",
    "                    return\n",
    "    def update(self, original_data, update_data):\n",
    "        # start searching through the connected nodes to find the data we want to update\n",
    "        start_n = self.start_node\n",
    "        while(start_n != None):\n",
    "            if(start_n.data == original_data):\n",
    "                #if the data is found, update the node data with the updated data\n",
    "                start_n.data = update_data\n",
    "                print(original_data, \"is updated to\", update_data)\n",
    "                return\n",
    "            else:\n",
    "                start_n = start_n.next\n",
    "        print(\"Data not found\")"
   ]
  },
  {
   "cell_type": "code",
   "execution_count": 3,
   "metadata": {},
   "outputs": [],
   "source": [
    "l_list = LinkedList()"
   ]
  },
  {
   "cell_type": "code",
   "execution_count": 4,
   "metadata": {},
   "outputs": [],
   "source": [
    "l_list.append(2)"
   ]
  },
  {
   "cell_type": "code",
   "execution_count": 5,
   "metadata": {},
   "outputs": [],
   "source": [
    "l_list.append(4)"
   ]
  },
  {
   "cell_type": "code",
   "execution_count": 6,
   "metadata": {},
   "outputs": [],
   "source": [
    "l_list.append(7)"
   ]
  },
  {
   "cell_type": "code",
   "execution_count": 7,
   "metadata": {},
   "outputs": [
    {
     "name": "stdout",
     "output_type": "stream",
     "text": [
      "2\n",
      "4\n",
      "7\n"
     ]
    }
   ],
   "source": [
    "l_list.display_all()"
   ]
  },
  {
   "cell_type": "code",
   "execution_count": 8,
   "metadata": {},
   "outputs": [],
   "source": [
    "l_list.append(12)"
   ]
  },
  {
   "cell_type": "code",
   "execution_count": 9,
   "metadata": {},
   "outputs": [],
   "source": [
    "l_list.append(19)"
   ]
  },
  {
   "cell_type": "code",
   "execution_count": 10,
   "metadata": {},
   "outputs": [],
   "source": [
    "l_list.append(67)"
   ]
  },
  {
   "cell_type": "code",
   "execution_count": 11,
   "metadata": {},
   "outputs": [
    {
     "name": "stdout",
     "output_type": "stream",
     "text": [
      "2\n",
      "4\n",
      "7\n",
      "12\n",
      "19\n",
      "67\n"
     ]
    }
   ],
   "source": [
    "l_list.display_all()"
   ]
  },
  {
   "cell_type": "code",
   "execution_count": 12,
   "metadata": {},
   "outputs": [
    {
     "name": "stdout",
     "output_type": "stream",
     "text": [
      "2\n",
      "4\n",
      "7\n",
      "12\n",
      "19\n",
      "67\n"
     ]
    }
   ],
   "source": [
    "l_list.display_all()"
   ]
  },
  {
   "cell_type": "code",
   "execution_count": 13,
   "metadata": {},
   "outputs": [
    {
     "name": "stdout",
     "output_type": "stream",
     "text": [
      "deleted 2\n"
     ]
    }
   ],
   "source": [
    "l_list.delete(2)"
   ]
  },
  {
   "cell_type": "code",
   "execution_count": 14,
   "metadata": {},
   "outputs": [
    {
     "name": "stdout",
     "output_type": "stream",
     "text": [
      "4\n",
      "7\n",
      "12\n",
      "19\n",
      "67\n"
     ]
    }
   ],
   "source": [
    "l_list.display_all()"
   ]
  },
  {
   "cell_type": "code",
   "execution_count": 15,
   "metadata": {},
   "outputs": [
    {
     "name": "stdout",
     "output_type": "stream",
     "text": [
      "deleted 19\n"
     ]
    }
   ],
   "source": [
    "l_list.delete(19)"
   ]
  },
  {
   "cell_type": "code",
   "execution_count": 16,
   "metadata": {},
   "outputs": [
    {
     "name": "stdout",
     "output_type": "stream",
     "text": [
      "4\n",
      "7\n",
      "12\n",
      "67\n"
     ]
    }
   ],
   "source": [
    "l_list.display_all()"
   ]
  },
  {
   "cell_type": "code",
   "execution_count": 17,
   "metadata": {},
   "outputs": [
    {
     "name": "stdout",
     "output_type": "stream",
     "text": [
      "deleted 7\n"
     ]
    }
   ],
   "source": [
    "l_list.delete(7)"
   ]
  },
  {
   "cell_type": "code",
   "execution_count": 18,
   "metadata": {},
   "outputs": [
    {
     "name": "stdout",
     "output_type": "stream",
     "text": [
      "4\n",
      "12\n",
      "67\n"
     ]
    }
   ],
   "source": [
    "l_list.display_all()"
   ]
  },
  {
   "cell_type": "code",
   "execution_count": 19,
   "metadata": {},
   "outputs": [
    {
     "name": "stdout",
     "output_type": "stream",
     "text": [
      "Data not found\n"
     ]
    }
   ],
   "source": [
    "l_list.delete(200)"
   ]
  },
  {
   "cell_type": "code",
   "execution_count": 20,
   "metadata": {},
   "outputs": [
    {
     "name": "stdout",
     "output_type": "stream",
     "text": [
      "4\n",
      "12\n",
      "67\n"
     ]
    }
   ],
   "source": [
    "l_list.display_all()"
   ]
  },
  {
   "cell_type": "code",
   "execution_count": 21,
   "metadata": {},
   "outputs": [
    {
     "name": "stdout",
     "output_type": "stream",
     "text": [
      "Data not found\n"
     ]
    }
   ],
   "source": [
    "l_list.update(8, 30)"
   ]
  },
  {
   "cell_type": "code",
   "execution_count": 22,
   "metadata": {},
   "outputs": [
    {
     "name": "stdout",
     "output_type": "stream",
     "text": [
      "4 is updated to 30\n"
     ]
    }
   ],
   "source": [
    "l_list.update(4, 30)"
   ]
  },
  {
   "cell_type": "code",
   "execution_count": 23,
   "metadata": {},
   "outputs": [
    {
     "name": "stdout",
     "output_type": "stream",
     "text": [
      "30\n",
      "12\n",
      "67\n"
     ]
    }
   ],
   "source": [
    "l_list.display_all()"
   ]
  },
  {
   "cell_type": "code",
   "execution_count": 24,
   "metadata": {},
   "outputs": [
    {
     "name": "stdout",
     "output_type": "stream",
     "text": [
      "67 is updated to 5\n"
     ]
    }
   ],
   "source": [
    "l_list.update(67, 5)"
   ]
  },
  {
   "cell_type": "code",
   "execution_count": 25,
   "metadata": {},
   "outputs": [
    {
     "name": "stdout",
     "output_type": "stream",
     "text": [
      "30\n",
      "12\n",
      "5\n"
     ]
    }
   ],
   "source": [
    "l_list.display_all()"
   ]
  },
  {
   "cell_type": "code",
   "execution_count": 26,
   "metadata": {},
   "outputs": [
    {
     "name": "stdout",
     "output_type": "stream",
     "text": [
      "Data not found\n"
     ]
    }
   ],
   "source": [
    "l_list.update(67, 5)"
   ]
  },
  {
   "cell_type": "code",
   "execution_count": 27,
   "metadata": {},
   "outputs": [
    {
     "name": "stdout",
     "output_type": "stream",
     "text": [
      "5 is updated to 9\n"
     ]
    }
   ],
   "source": [
    "l_list.update(5, 9)"
   ]
  },
  {
   "cell_type": "code",
   "execution_count": 28,
   "metadata": {},
   "outputs": [
    {
     "name": "stdout",
     "output_type": "stream",
     "text": [
      "30\n",
      "12\n",
      "9\n"
     ]
    }
   ],
   "source": [
    "l_list.display_all()"
   ]
  },
  {
   "cell_type": "code",
   "execution_count": 29,
   "metadata": {},
   "outputs": [
    {
     "name": "stdout",
     "output_type": "stream",
     "text": [
      "12 is updated to 25\n"
     ]
    }
   ],
   "source": [
    "l_list.update(12, 25)"
   ]
  },
  {
   "cell_type": "code",
   "execution_count": 30,
   "metadata": {},
   "outputs": [
    {
     "name": "stdout",
     "output_type": "stream",
     "text": [
      "30\n",
      "25\n",
      "9\n"
     ]
    }
   ],
   "source": [
    "l_list.display_all()"
   ]
  },
  {
   "cell_type": "code",
   "execution_count": null,
   "metadata": {},
   "outputs": [],
   "source": []
  }
 ],
 "metadata": {
  "kernelspec": {
   "display_name": "Python 3",
   "language": "python",
   "name": "python3"
  },
  "language_info": {
   "codemirror_mode": {
    "name": "ipython",
    "version": 3
   },
   "file_extension": ".py",
   "mimetype": "text/x-python",
   "name": "python",
   "nbconvert_exporter": "python",
   "pygments_lexer": "ipython3",
   "version": "3.8.5"
  }
 },
 "nbformat": 4,
 "nbformat_minor": 4
}
